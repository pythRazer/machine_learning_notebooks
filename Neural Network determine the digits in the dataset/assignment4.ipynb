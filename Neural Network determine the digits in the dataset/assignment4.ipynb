{
 "cells": [
  {
   "cell_type": "markdown",
   "id": "052ac8af",
   "metadata": {},
   "source": [
    "# Multilayer Perceptron Classifie"
   ]
  },
  {
   "cell_type": "markdown",
   "id": "a9c6a90e",
   "metadata": {},
   "source": [
    "## Data Preprocessing"
   ]
  },
  {
   "cell_type": "code",
   "execution_count": 3,
   "id": "aaae195c",
   "metadata": {},
   "outputs": [
    {
     "data": {
      "text/html": [
       "<div>\n",
       "<style scoped>\n",
       "    .dataframe tbody tr th:only-of-type {\n",
       "        vertical-align: middle;\n",
       "    }\n",
       "\n",
       "    .dataframe tbody tr th {\n",
       "        vertical-align: top;\n",
       "    }\n",
       "\n",
       "    .dataframe thead th {\n",
       "        text-align: right;\n",
       "    }\n",
       "</style>\n",
       "<table border=\"1\" class=\"dataframe\">\n",
       "  <thead>\n",
       "    <tr style=\"text-align: right;\">\n",
       "      <th></th>\n",
       "      <th>label</th>\n",
       "      <th>0x0</th>\n",
       "      <th>0x1</th>\n",
       "      <th>0x2</th>\n",
       "      <th>0x3</th>\n",
       "      <th>0x4</th>\n",
       "      <th>0x5</th>\n",
       "      <th>0x6</th>\n",
       "      <th>0x7</th>\n",
       "      <th>0x8</th>\n",
       "      <th>...</th>\n",
       "      <th>13x4</th>\n",
       "      <th>13x5</th>\n",
       "      <th>13x6</th>\n",
       "      <th>13x7</th>\n",
       "      <th>13x8</th>\n",
       "      <th>13x9</th>\n",
       "      <th>13x10</th>\n",
       "      <th>13x11</th>\n",
       "      <th>13x12</th>\n",
       "      <th>13x13</th>\n",
       "    </tr>\n",
       "  </thead>\n",
       "  <tbody>\n",
       "    <tr>\n",
       "      <th>0</th>\n",
       "      <td>7</td>\n",
       "      <td>0</td>\n",
       "      <td>0</td>\n",
       "      <td>0</td>\n",
       "      <td>0</td>\n",
       "      <td>0</td>\n",
       "      <td>0</td>\n",
       "      <td>0</td>\n",
       "      <td>0</td>\n",
       "      <td>0</td>\n",
       "      <td>...</td>\n",
       "      <td>0</td>\n",
       "      <td>0</td>\n",
       "      <td>41</td>\n",
       "      <td>88</td>\n",
       "      <td>3</td>\n",
       "      <td>0</td>\n",
       "      <td>0</td>\n",
       "      <td>0</td>\n",
       "      <td>0</td>\n",
       "      <td>0</td>\n",
       "    </tr>\n",
       "    <tr>\n",
       "      <th>1</th>\n",
       "      <td>3</td>\n",
       "      <td>0</td>\n",
       "      <td>0</td>\n",
       "      <td>0</td>\n",
       "      <td>0</td>\n",
       "      <td>0</td>\n",
       "      <td>0</td>\n",
       "      <td>0</td>\n",
       "      <td>0</td>\n",
       "      <td>0</td>\n",
       "      <td>...</td>\n",
       "      <td>0</td>\n",
       "      <td>0</td>\n",
       "      <td>0</td>\n",
       "      <td>0</td>\n",
       "      <td>0</td>\n",
       "      <td>0</td>\n",
       "      <td>0</td>\n",
       "      <td>0</td>\n",
       "      <td>0</td>\n",
       "      <td>0</td>\n",
       "    </tr>\n",
       "    <tr>\n",
       "      <th>2</th>\n",
       "      <td>8</td>\n",
       "      <td>0</td>\n",
       "      <td>0</td>\n",
       "      <td>0</td>\n",
       "      <td>0</td>\n",
       "      <td>0</td>\n",
       "      <td>0</td>\n",
       "      <td>0</td>\n",
       "      <td>0</td>\n",
       "      <td>0</td>\n",
       "      <td>...</td>\n",
       "      <td>0</td>\n",
       "      <td>0</td>\n",
       "      <td>0</td>\n",
       "      <td>0</td>\n",
       "      <td>0</td>\n",
       "      <td>0</td>\n",
       "      <td>0</td>\n",
       "      <td>0</td>\n",
       "      <td>0</td>\n",
       "      <td>0</td>\n",
       "    </tr>\n",
       "    <tr>\n",
       "      <th>3</th>\n",
       "      <td>9</td>\n",
       "      <td>0</td>\n",
       "      <td>0</td>\n",
       "      <td>0</td>\n",
       "      <td>0</td>\n",
       "      <td>0</td>\n",
       "      <td>0</td>\n",
       "      <td>0</td>\n",
       "      <td>0</td>\n",
       "      <td>0</td>\n",
       "      <td>...</td>\n",
       "      <td>0</td>\n",
       "      <td>0</td>\n",
       "      <td>0</td>\n",
       "      <td>0</td>\n",
       "      <td>0</td>\n",
       "      <td>0</td>\n",
       "      <td>0</td>\n",
       "      <td>0</td>\n",
       "      <td>0</td>\n",
       "      <td>0</td>\n",
       "    </tr>\n",
       "    <tr>\n",
       "      <th>4</th>\n",
       "      <td>3</td>\n",
       "      <td>0</td>\n",
       "      <td>0</td>\n",
       "      <td>0</td>\n",
       "      <td>0</td>\n",
       "      <td>0</td>\n",
       "      <td>0</td>\n",
       "      <td>0</td>\n",
       "      <td>0</td>\n",
       "      <td>0</td>\n",
       "      <td>...</td>\n",
       "      <td>0</td>\n",
       "      <td>0</td>\n",
       "      <td>0</td>\n",
       "      <td>0</td>\n",
       "      <td>0</td>\n",
       "      <td>0</td>\n",
       "      <td>0</td>\n",
       "      <td>0</td>\n",
       "      <td>0</td>\n",
       "      <td>0</td>\n",
       "    </tr>\n",
       "  </tbody>\n",
       "</table>\n",
       "<p>5 rows × 197 columns</p>\n",
       "</div>"
      ],
      "text/plain": [
       "   label  0x0  0x1  0x2  0x3  0x4  0x5  0x6  0x7  0x8  ...  13x4  13x5  13x6  \\\n",
       "0      7    0    0    0    0    0    0    0    0    0  ...     0     0    41   \n",
       "1      3    0    0    0    0    0    0    0    0    0  ...     0     0     0   \n",
       "2      8    0    0    0    0    0    0    0    0    0  ...     0     0     0   \n",
       "3      9    0    0    0    0    0    0    0    0    0  ...     0     0     0   \n",
       "4      3    0    0    0    0    0    0    0    0    0  ...     0     0     0   \n",
       "\n",
       "   13x7  13x8  13x9  13x10  13x11  13x12  13x13  \n",
       "0    88     3     0      0      0      0      0  \n",
       "1     0     0     0      0      0      0      0  \n",
       "2     0     0     0      0      0      0      0  \n",
       "3     0     0     0      0      0      0      0  \n",
       "4     0     0     0      0      0      0      0  \n",
       "\n",
       "[5 rows x 197 columns]"
      ]
     },
     "execution_count": 3,
     "metadata": {},
     "output_type": "execute_result"
    }
   ],
   "source": [
    "from matplotlib import pyplot as plt\n",
    "import sklearn\n",
    "import sklearn.tree\n",
    "import numpy as np\n",
    "from io import StringIO\n",
    "from sklearn.neural_network import MLPClassifier\n",
    "import pandas as pd\n",
    "from sklearn import datasets\n",
    "from sklearn import preprocessing\n",
    "from sklearn import model_selection\n",
    "from sklearn import metrics\n",
    "import time\n",
    "\n",
    "df = pd.read_csv('digits.csv')\n",
    "df.head() \n",
    "\n"
   ]
  },
  {
   "cell_type": "code",
   "execution_count": 4,
   "id": "b4563e38",
   "metadata": {},
   "outputs": [
    {
     "data": {
      "image/png": "[encoded data removed]",
      "text/plain": [
       "<Figure size 1600x800 with 10 Axes>"
      ]
     },
     "metadata": {},
     "output_type": "display_data"
    },
    {
     "name": "stdout",
     "output_type": "stream",
     "text": [
      "[7 3 8 9 3 9 7 7 5 4]\n"
     ]
    }
   ],
   "source": [
    "#  A view of a portion of this data\n",
    "X = df.drop(\"label\", axis=1).values\n",
    "y = df[\"label\"].values\n",
    "\n",
    "fig = plt.figure(figsize=(16,8))\n",
    "for i in range(10):\n",
    "    for j in range(y.shape[0]):\n",
    "        if y[j] == i:\n",
    "            ax = fig.add_subplot(2, 5, i+1)\n",
    "            ax.imshow(X[i].reshape(14,14), cmap=plt.cm.gray_r)\n",
    "            break\n",
    "plt.show()\n",
    "print(y[0:10])"
   ]
  },
  {
   "cell_type": "code",
   "execution_count": 5,
   "id": "363bfec5",
   "metadata": {},
   "outputs": [
    {
     "data": {
      "text/plain": [
       "[<matplotlib.lines.Line2D at 0x1299a9810>]"
      ]
     },
     "execution_count": 5,
     "metadata": {},
     "output_type": "execute_result"
    },
    {
     "data": {
      "image/png": "[encoded data removed]",
      "text/plain": [
       "<Figure size 640x480 with 1 Axes>"
      ]
     },
     "metadata": {},
     "output_type": "display_data"
    },
    {
     "data": {
      "image/png": "[encoded data removed]",
      "text/plain": [
       "<Figure size 640x480 with 1 Axes>"
      ]
     },
     "metadata": {},
     "output_type": "display_data"
    }
   ],
   "source": [
    "x = np.linspace(-5, 5, 100)\n",
    "f = plt.figure()\n",
    "plt.title(\"relu function\")\n",
    "plt.plot(x, np.maximum(0, x))\n",
    "\n",
    "\n",
    "f = plt.figure()\n",
    "plt.title(\"tanh function\")\n",
    "plt.plot(x, np.tanh(x))"
   ]
  },
  {
   "cell_type": "markdown",
   "id": "d164d874",
   "metadata": {},
   "source": [
    "## KFold, Scalling, Model "
   ]
  },
  {
   "cell_type": "code",
   "execution_count": 6,
   "id": "efcd9154",
   "metadata": {},
   "outputs": [],
   "source": [
    "# KFold provides train/test indices to split data in train/test sets. Split dataset into k consecutive folds\n",
    "kfold = model_selection.KFold(5, shuffle=True, random_state=2)\n"
   ]
  },
  {
   "cell_type": "code",
   "execution_count": 7,
   "id": "f4d08452",
   "metadata": {},
   "outputs": [],
   "source": [
    "def MPC(X, y, layers, func):\n",
    "    prec, rec, f1 = [], [], []\n",
    "    # Time spent\n",
    "    start = time.time()\n",
    "    \n",
    "    for train_idx, test_idx in kfold.split(X):\n",
    "        X_train, X_test = X[train_idx], X[test_idx]\n",
    "        y_train, y_test = y[train_idx], y[test_idx]\n",
    "\n",
    "        mlp_clf = MLPClassifier(hidden_layer_sizes=layers, max_iter=1000, activation=func, random_state=2, solver=\"lbfgs\") # number of hidden layers is passed to the classifier\n",
    "        X_scaler = preprocessing.MinMaxScaler()\n",
    "\n",
    "        X_train = X_scaler.fit_transform(X_train)    \n",
    "\n",
    "        mlp_clf.fit(X_train, y_train)\n",
    "\n",
    "        X_test = X_scaler.transform(X_test)\n",
    "        y_pred = mlp_clf.predict(X_test)\n",
    "\n",
    "        print(y_pred)\n",
    "        print(y_test)\n",
    "\n",
    "        rec += [metrics.recall_score(y_pred, y_test, average=\"weighted\")]\n",
    "        prec += [metrics.precision_score(y_pred, y_test, average=\"weighted\")]\n",
    "        f1 += [metrics.f1_score(y_pred, y_test, average=\"weighted\")]\n",
    "        \n",
    "        \n",
    "      \n",
    "        \n",
    "\n",
    "        print()\n",
    "    \n",
    "    time_spent = time.time() - start\n",
    "    print(\"Time: \", time_spent)\n",
    "\n",
    "    print(\"recall    = {:.4f} ±{:.4f}\".format(np.mean(rec), np.std(rec)))\n",
    "    print(\"precision = {:.4f} ±{:.4f}\".format(np.mean(prec), np.std(prec)))\n",
    "    print(\"f1        = {:.4f} ±{:.4f}\".format(np.mean(f1), np.std(f1)))\n",
    "    \n",
    "    return time_spent"
   ]
  },
  {
   "cell_type": "code",
   "execution_count": 8,
   "id": "10432fcc",
   "metadata": {},
   "outputs": [
    {
     "name": "stdout",
     "output_type": "stream",
     "text": [
      "[9 7 0 ... 7 2 5]\n",
      "[9 7 0 ... 7 2 5]\n",
      "\n",
      "[8 3 9 ... 0 8 7]\n",
      "[8 3 9 ... 0 8 3]\n",
      "\n",
      "[4 5 1 ... 5 3 1]\n",
      "[4 5 1 ... 5 3 1]\n",
      "\n",
      "[7 5 1 ... 5 7 2]\n",
      "[7 5 1 ... 5 9 2]\n",
      "\n",
      "[7 3 2 ... 6 1 7]\n",
      "[7 3 2 ... 6 1 7]\n",
      "\n",
      "Time:  10.425442934036255\n",
      "recall    = 0.9100 ±0.0087\n",
      "precision = 0.9107 ±0.0088\n",
      "f1        = 0.9100 ±0.0087\n"
     ]
    },
    {
     "data": {
      "text/plain": [
       "10.425442934036255"
      ]
     },
     "execution_count": 8,
     "metadata": {},
     "output_type": "execute_result"
    }
   ],
   "source": [
    "MPC(X, y, (20, 20),'relu')"
   ]
  },
  {
   "cell_type": "code",
   "execution_count": 9,
   "id": "1c4e93b6",
   "metadata": {},
   "outputs": [
    {
     "name": "stdout",
     "output_type": "stream",
     "text": [
      "[9 7 0 ... 7 2 5]\n",
      "[9 7 0 ... 7 2 5]\n",
      "\n",
      "[8 3 9 ... 0 8 9]\n",
      "[8 3 9 ... 0 8 3]\n",
      "\n",
      "[4 5 1 ... 5 3 1]\n",
      "[4 5 1 ... 5 3 1]\n",
      "\n",
      "[7 5 1 ... 5 9 2]\n",
      "[7 5 1 ... 5 9 2]\n",
      "\n",
      "[7 3 2 ... 6 1 7]\n",
      "[7 3 2 ... 6 1 7]\n",
      "\n",
      "Time:  20.43543291091919\n",
      "recall    = 0.9395 ±0.0082\n",
      "precision = 0.9403 ±0.0079\n",
      "f1        = 0.9396 ±0.0082\n"
     ]
    },
    {
     "data": {
      "text/plain": [
       "20.43543291091919"
      ]
     },
     "execution_count": 9,
     "metadata": {},
     "output_type": "execute_result"
    }
   ],
   "source": [
    "MPC(X, y, (100, 100), 'relu')"
   ]
  },
  {
   "cell_type": "code",
   "execution_count": 10,
   "id": "9f3fe31c",
   "metadata": {},
   "outputs": [
    {
     "name": "stdout",
     "output_type": "stream",
     "text": [
      "[9 7 0 ... 7 2 8]\n",
      "[9 7 0 ... 7 2 5]\n",
      "\n",
      "[8 3 9 ... 0 8 9]\n",
      "[8 3 9 ... 0 8 3]\n",
      "\n",
      "[4 5 1 ... 5 3 1]\n",
      "[4 5 1 ... 5 3 1]\n",
      "\n",
      "[7 5 1 ... 5 4 2]\n",
      "[7 5 1 ... 5 9 2]\n",
      "\n",
      "[7 3 2 ... 6 1 7]\n",
      "[7 3 2 ... 6 1 7]\n",
      "\n",
      "Time:  41.942862033843994\n",
      "recall    = 0.9063 ±0.0080\n",
      "precision = 0.9072 ±0.0077\n",
      "f1        = 0.9064 ±0.0080\n"
     ]
    },
    {
     "data": {
      "text/plain": [
       "41.942862033843994"
      ]
     },
     "execution_count": 10,
     "metadata": {},
     "output_type": "execute_result"
    }
   ],
   "source": [
    "MPC(X, y, (20, 20, 20, 20, 20), 'relu')"
   ]
  },
  {
   "cell_type": "code",
   "execution_count": 11,
   "id": "ca44244e",
   "metadata": {},
   "outputs": [
    {
     "name": "stdout",
     "output_type": "stream",
     "text": [
      "[9 7 0 ... 7 2 5]\n",
      "[9 7 0 ... 7 2 5]\n",
      "\n",
      "[8 3 9 ... 0 8 7]\n",
      "[8 3 9 ... 0 8 3]\n",
      "\n",
      "[4 5 1 ... 5 3 1]\n",
      "[4 5 1 ... 5 3 1]\n",
      "\n",
      "[7 5 1 ... 5 9 2]\n",
      "[7 5 1 ... 5 9 2]\n",
      "\n",
      "[7 3 2 ... 6 1 7]\n",
      "[7 3 2 ... 6 1 7]\n",
      "\n",
      "Time:  52.07856011390686\n",
      "recall    = 0.9370 ±0.0070\n",
      "precision = 0.9377 ±0.0068\n",
      "f1        = 0.9371 ±0.0070\n"
     ]
    },
    {
     "data": {
      "text/plain": [
       "52.07856011390686"
      ]
     },
     "execution_count": 11,
     "metadata": {},
     "output_type": "execute_result"
    }
   ],
   "source": [
    "MPC(X, y, (100, 100, 100, 100, 100), 'relu')"
   ]
  },
  {
   "cell_type": "code",
   "execution_count": 12,
   "id": "f9df2606",
   "metadata": {},
   "outputs": [
    {
     "name": "stdout",
     "output_type": "stream",
     "text": [
      "[9 7 0 ... 7 2 5]\n",
      "[9 7 0 ... 7 2 5]\n",
      "\n",
      "[8 3 9 ... 0 8 2]\n",
      "[8 3 9 ... 0 8 3]\n",
      "\n",
      "[4 5 1 ... 5 3 1]\n",
      "[4 5 1 ... 5 3 1]\n",
      "\n",
      "[7 5 1 ... 5 7 2]\n",
      "[7 5 1 ... 5 9 2]\n",
      "\n",
      "[7 3 2 ... 6 1 7]\n",
      "[7 3 2 ... 6 1 7]\n",
      "\n",
      "Time:  6.491062164306641\n",
      "recall    = 0.9130 ±0.0102\n",
      "precision = 0.9141 ±0.0104\n",
      "f1        = 0.9131 ±0.0102\n"
     ]
    },
    {
     "data": {
      "text/plain": [
       "6.491062164306641"
      ]
     },
     "execution_count": 12,
     "metadata": {},
     "output_type": "execute_result"
    }
   ],
   "source": [
    "MPC(X, y, (20, 20),'tanh')"
   ]
  },
  {
   "cell_type": "code",
   "execution_count": 13,
   "id": "3bceaf95",
   "metadata": {},
   "outputs": [
    {
     "name": "stdout",
     "output_type": "stream",
     "text": [
      "[9 7 0 ... 7 2 5]\n",
      "[9 7 0 ... 7 2 5]\n",
      "\n",
      "[8 3 9 ... 0 8 9]\n",
      "[8 3 9 ... 0 8 3]\n",
      "\n",
      "[4 5 1 ... 5 3 1]\n",
      "[4 5 1 ... 5 3 1]\n",
      "\n",
      "[7 5 1 ... 5 9 2]\n",
      "[7 5 1 ... 5 9 2]\n",
      "\n",
      "[7 3 2 ... 6 1 7]\n",
      "[7 3 2 ... 6 1 7]\n",
      "\n",
      "Time:  9.9478120803833\n",
      "recall    = 0.9352 ±0.0085\n",
      "precision = 0.9357 ±0.0084\n",
      "f1        = 0.9351 ±0.0085\n"
     ]
    },
    {
     "data": {
      "text/plain": [
       "9.9478120803833"
      ]
     },
     "execution_count": 13,
     "metadata": {},
     "output_type": "execute_result"
    }
   ],
   "source": [
    "MPC(X, y, (100, 100), 'tanh')"
   ]
  },
  {
   "cell_type": "code",
   "execution_count": 14,
   "id": "6a6e037f",
   "metadata": {},
   "outputs": [
    {
     "name": "stdout",
     "output_type": "stream",
     "text": [
      "[9 7 0 ... 7 2 8]\n",
      "[9 7 0 ... 7 2 5]\n",
      "\n",
      "[8 3 9 ... 0 8 3]\n",
      "[8 3 9 ... 0 8 3]\n",
      "\n",
      "[4 5 1 ... 5 3 1]\n",
      "[4 5 1 ... 5 3 1]\n",
      "\n",
      "[7 5 1 ... 5 9 2]\n",
      "[7 5 1 ... 5 9 2]\n",
      "\n",
      "[7 3 2 ... 6 1 7]\n",
      "[7 3 2 ... 6 1 7]\n",
      "\n",
      "Time:  15.89641809463501\n",
      "recall    = 0.9072 ±0.0105\n",
      "precision = 0.9085 ±0.0101\n",
      "f1        = 0.9072 ±0.0104\n"
     ]
    },
    {
     "data": {
      "text/plain": [
       "15.89641809463501"
      ]
     },
     "execution_count": 14,
     "metadata": {},
     "output_type": "execute_result"
    }
   ],
   "source": [
    "MPC(X, y, (20, 20, 20, 20, 20), 'tanh')"
   ]
  },
  {
   "cell_type": "code",
   "execution_count": 15,
   "id": "29506563",
   "metadata": {},
   "outputs": [
    {
     "name": "stdout",
     "output_type": "stream",
     "text": [
      "[9 7 0 ... 7 2 5]\n",
      "[9 7 0 ... 7 2 5]\n",
      "\n",
      "[8 3 9 ... 0 8 2]\n",
      "[8 3 9 ... 0 8 3]\n",
      "\n",
      "[4 5 1 ... 5 3 1]\n",
      "[4 5 1 ... 5 3 1]\n",
      "\n",
      "[7 5 1 ... 5 9 2]\n",
      "[7 5 1 ... 5 9 2]\n",
      "\n",
      "[7 3 2 ... 6 1 7]\n",
      "[7 3 2 ... 6 1 7]\n",
      "\n",
      "Time:  28.367899179458618\n",
      "recall    = 0.9397 ±0.0070\n",
      "precision = 0.9404 ±0.0070\n",
      "f1        = 0.9397 ±0.0070\n"
     ]
    },
    {
     "data": {
      "text/plain": [
       "28.367899179458618"
      ]
     },
     "execution_count": 15,
     "metadata": {},
     "output_type": "execute_result"
    }
   ],
   "source": [
    "MPC(X, y, (100, 100, 100, 100, 100), 'tanh')"
   ]
  },
  {
   "cell_type": "markdown",
   "id": "fd600ba8",
   "metadata": {},
   "source": [
    "## The time it takes to fit each model as size of layers increase for various layer sizes"
   ]
  },
  {
   "cell_type": "code",
   "execution_count": 16,
   "id": "3a658fc5",
   "metadata": {},
   "outputs": [],
   "source": [
    "def MPC2(X, y, layers, func): # Without the time spent for calculating the score\n",
    "   \n",
    "    # Time spent\n",
    "    start = time.time()\n",
    "    \n",
    "    for train_idx, test_idx in kfold.split(X):\n",
    "        X_train, X_test = X[train_idx], X[test_idx]\n",
    "        y_train, y_test = y[train_idx], y[test_idx]\n",
    "\n",
    "        mlp_clf = MLPClassifier(hidden_layer_sizes=layers, max_iter=1000, activation=func, random_state=2, solver=\"lbfgs\") # number of hidden layers is passed to the classifier\n",
    "        X_scaler = preprocessing.MinMaxScaler()\n",
    "\n",
    "        X_train = X_scaler.fit_transform(X_train)    \n",
    "\n",
    "        mlp_clf.fit(X_train, y_train)\n",
    "\n",
    "        X_test = X_scaler.transform(X_test)\n",
    "        y_pred = mlp_clf.predict(X_test)\n",
    "    \n",
    "    time_spent = time.time() - start\n",
    "    print(\"Time: \", time_spent)\n",
    "\n",
    "    \n",
    "    return time_spent"
   ]
  },
  {
   "cell_type": "code",
   "execution_count": 20,
   "id": "e50ff65f",
   "metadata": {},
   "outputs": [
    {
     "name": "stdout",
     "output_type": "stream",
     "text": [
      "Time:  6.203898906707764\n",
      "Time:  6.403615236282349\n",
      "Time:  6.5465967655181885\n",
      "Time:  7.170476913452148\n",
      "Time:  9.22623610496521\n"
     ]
    },
    {
     "data": {
      "image/png": "[encoded data removed]",
      "text/plain": [
       "<Figure size 1000x600 with 1 Axes>"
      ]
     },
     "metadata": {},
     "output_type": "display_data"
    }
   ],
   "source": [
    "training_time = [\n",
    "    MPC2(X, y, (20, 20), 'tanh'),\n",
    "    MPC2(X, y, (40, 40), 'tanh'),\n",
    "    MPC2(X, y, (60, 60), 'tanh'),\n",
    "    MPC2(X, y, (80, 80), 'tanh'),\n",
    "    MPC2(X, y, (100, 100), 'tanh')\n",
    "]\n",
    "\n",
    "\n",
    "layer_sizes = [20, 40, 60, 80, 100]\n",
    "\n",
    "\n",
    "# Plotting\n",
    "plt.figure(figsize=(10, 6))\n",
    "plt.plot(layer_sizes, training_time, marker='o')\n",
    "plt.title('Training Time vs Layer Size')\n",
    "plt.xlabel('Layer Size')\n",
    "plt.ylabel('Training Time (seconds)')\n",
    "plt.xticks(layer_sizes)\n",
    "plt.grid(True)\n",
    "plt.show()\n",
    "\n"
   ]
  },
  {
   "cell_type": "markdown",
   "id": "050e591c",
   "metadata": {},
   "source": [
    "## The time it takes to fit each model as number of layers increase "
   ]
  },
  {
   "cell_type": "code",
   "execution_count": 30,
   "id": "3065eea5",
   "metadata": {},
   "outputs": [
    {
     "name": "stdout",
     "output_type": "stream",
     "text": [
      "Time:  6.67429518699646\n",
      "Time:  6.661713123321533\n",
      "Time:  8.138581991195679\n",
      "Time:  12.334396123886108\n",
      "Time:  15.836822032928467\n"
     ]
    },
    {
     "data": {
      "image/png": "[encoded data removed]",
      "text/plain": [
       "<Figure size 1000x600 with 1 Axes>"
      ]
     },
     "metadata": {},
     "output_type": "display_data"
    }
   ],
   "source": [
    "training_time = [\n",
    "    MPC2(X, y, (20), 'tanh'),\n",
    "    MPC2(X, y, (20, 20), 'tanh'),\n",
    "    MPC2(X, y, (20, 20, 20), 'tanh'),\n",
    "    MPC2(X, y, (20, 20, 20, 20), 'tanh'),\n",
    "    MPC2(X, y, (20, 20, 20, 20, 20), 'tanh')\n",
    "]\n",
    "\n",
    "\n",
    "layer_sizes = [1,2,3,4,5]\n",
    "\n",
    "\n",
    "# Plotting\n",
    "plt.figure(figsize=(10, 6))\n",
    "plt.plot(layer_sizes, training_time, marker='o')\n",
    "plt.title('Training Time vs Number of Layers')\n",
    "plt.xlabel('Number of layers')\n",
    "plt.ylabel('Training Time (seconds)')\n",
    "plt.xticks(layer_sizes)\n",
    "plt.grid(True)\n",
    "plt.show()\n"
   ]
  },
  {
   "cell_type": "markdown",
   "id": "5881f037",
   "metadata": {},
   "source": [
    "## If stop using MinMaxScaler, different learning rate"
   ]
  },
  {
   "cell_type": "code",
   "execution_count": 21,
   "id": "3dba6f40",
   "metadata": {},
   "outputs": [
    {
     "name": "stderr",
     "output_type": "stream",
     "text": [
      "/Users/juichilee/anaconda3/lib/python3.11/site-packages/sklearn/neural_network/_multilayer_perceptron.py:546: ConvergenceWarning: lbfgs failed to converge (status=1):\n",
      "STOP: TOTAL NO. of ITERATIONS REACHED LIMIT.\n",
      "\n",
      "Increase the number of iterations (max_iter) or scale the data as shown in:\n",
      "    https://scikit-learn.org/stable/modules/preprocessing.html\n",
      "  self.n_iter_ = _check_optimize_result(\"lbfgs\", opt_res, self.max_iter)\n"
     ]
    },
    {
     "name": "stdout",
     "output_type": "stream",
     "text": [
      "[9 5 0 ... 7 2 5]\n",
      "[9 7 0 ... 7 2 5]\n",
      "\n"
     ]
    },
    {
     "name": "stderr",
     "output_type": "stream",
     "text": [
      "/Users/juichilee/anaconda3/lib/python3.11/site-packages/sklearn/neural_network/_multilayer_perceptron.py:546: ConvergenceWarning: lbfgs failed to converge (status=1):\n",
      "STOP: TOTAL NO. of ITERATIONS REACHED LIMIT.\n",
      "\n",
      "Increase the number of iterations (max_iter) or scale the data as shown in:\n",
      "    https://scikit-learn.org/stable/modules/preprocessing.html\n",
      "  self.n_iter_ = _check_optimize_result(\"lbfgs\", opt_res, self.max_iter)\n"
     ]
    },
    {
     "name": "stdout",
     "output_type": "stream",
     "text": [
      "[8 3 9 ... 6 8 7]\n",
      "[8 3 9 ... 0 8 3]\n",
      "\n"
     ]
    },
    {
     "name": "stderr",
     "output_type": "stream",
     "text": [
      "/Users/juichilee/anaconda3/lib/python3.11/site-packages/sklearn/neural_network/_multilayer_perceptron.py:546: ConvergenceWarning: lbfgs failed to converge (status=1):\n",
      "STOP: TOTAL NO. of ITERATIONS REACHED LIMIT.\n",
      "\n",
      "Increase the number of iterations (max_iter) or scale the data as shown in:\n",
      "    https://scikit-learn.org/stable/modules/preprocessing.html\n",
      "  self.n_iter_ = _check_optimize_result(\"lbfgs\", opt_res, self.max_iter)\n"
     ]
    },
    {
     "name": "stdout",
     "output_type": "stream",
     "text": [
      "[4 5 7 ... 5 8 1]\n",
      "[4 5 1 ... 5 3 1]\n",
      "\n"
     ]
    },
    {
     "name": "stderr",
     "output_type": "stream",
     "text": [
      "/Users/juichilee/anaconda3/lib/python3.11/site-packages/sklearn/neural_network/_multilayer_perceptron.py:546: ConvergenceWarning: lbfgs failed to converge (status=1):\n",
      "STOP: TOTAL NO. of ITERATIONS REACHED LIMIT.\n",
      "\n",
      "Increase the number of iterations (max_iter) or scale the data as shown in:\n",
      "    https://scikit-learn.org/stable/modules/preprocessing.html\n",
      "  self.n_iter_ = _check_optimize_result(\"lbfgs\", opt_res, self.max_iter)\n"
     ]
    },
    {
     "name": "stdout",
     "output_type": "stream",
     "text": [
      "[7 5 1 ... 5 9 2]\n",
      "[7 5 1 ... 5 9 2]\n",
      "\n",
      "[7 3 2 ... 6 1 7]\n",
      "[7 3 2 ... 6 1 7]\n",
      "\n",
      "Time:  70.83340811729431\n",
      "recall    = 0.8588 ±0.0109\n",
      "precision = 0.8608 ±0.0106\n",
      "f1        = 0.8591 ±0.0109\n"
     ]
    },
    {
     "name": "stderr",
     "output_type": "stream",
     "text": [
      "/Users/juichilee/anaconda3/lib/python3.11/site-packages/sklearn/neural_network/_multilayer_perceptron.py:546: ConvergenceWarning: lbfgs failed to converge (status=1):\n",
      "STOP: TOTAL NO. of ITERATIONS REACHED LIMIT.\n",
      "\n",
      "Increase the number of iterations (max_iter) or scale the data as shown in:\n",
      "    https://scikit-learn.org/stable/modules/preprocessing.html\n",
      "  self.n_iter_ = _check_optimize_result(\"lbfgs\", opt_res, self.max_iter)\n"
     ]
    },
    {
     "data": {
      "text/plain": [
       "70.83340811729431"
      ]
     },
     "execution_count": 21,
     "metadata": {},
     "output_type": "execute_result"
    }
   ],
   "source": [
    "def MPC_without_MinMaxScaler(X, y, layers, func):\n",
    "    prec, rec, f1 = [], [], []\n",
    "    # Time spent\n",
    "    start = time.time()\n",
    "    \n",
    "    for train_idx, test_idx in kfold.split(X):\n",
    "        X_train, X_test = X[train_idx], X[test_idx]\n",
    "        y_train, y_test = y[train_idx], y[test_idx]\n",
    "\n",
    "        mlp_clf = MLPClassifier(hidden_layer_sizes=layers, max_iter=1000, activation=func, random_state=2, solver=\"lbfgs\") # number of hidden layers is passed to the classifier\n",
    "#         X_scaler = preprocessing.MinMaxScaler()\n",
    "\n",
    "#         X_train = X_scaler.fit_transform(X_train)    \n",
    "\n",
    "        mlp_clf.fit(X_train, y_train)\n",
    "\n",
    "#         X_test = X_scaler.transform(X_test)\n",
    "        y_pred = mlp_clf.predict(X_test)\n",
    "\n",
    "        print(y_pred)\n",
    "        print(y_test)\n",
    "\n",
    "        rec += [metrics.recall_score(y_pred, y_test, average=\"weighted\")]\n",
    "        prec += [metrics.precision_score(y_pred, y_test, average=\"weighted\")]\n",
    "        f1 += [metrics.f1_score(y_pred, y_test, average=\"weighted\")]\n",
    "        \n",
    "        \n",
    "      \n",
    "        \n",
    "\n",
    "        print()\n",
    "    \n",
    "    time_spent = time.time() - start\n",
    "    print(\"Time: \", time_spent)\n",
    "\n",
    "    print(\"recall    = {:.4f} ±{:.4f}\".format(np.mean(rec), np.std(rec)))\n",
    "    print(\"precision = {:.4f} ±{:.4f}\".format(np.mean(prec), np.std(prec)))\n",
    "    print(\"f1        = {:.4f} ±{:.4f}\".format(np.mean(f1), np.std(f1)))\n",
    "    \n",
    "    return time_spent\n",
    "\n",
    "MPC_without_MinMaxScaler(X, y, (20, 20),'tanh')"
   ]
  },
  {
   "cell_type": "code",
   "execution_count": 101,
   "id": "568958f7",
   "metadata": {},
   "outputs": [
    {
     "name": "stdout",
     "output_type": "stream",
     "text": [
      "[9 7 0 ... 7 2 5]\n",
      "[9 7 0 ... 7 2 5]\n",
      "\n",
      "[8 3 9 ... 0 8 7]\n",
      "[8 3 9 ... 0 8 3]\n",
      "\n",
      "[4 5 1 ... 5 3 1]\n",
      "[4 5 1 ... 5 3 1]\n",
      "\n",
      "[7 5 1 ... 5 7 2]\n",
      "[7 5 1 ... 5 9 2]\n",
      "\n",
      "[7 3 2 ... 6 1 7]\n",
      "[7 3 2 ... 6 1 7]\n",
      "\n",
      "Time:  11.28397798538208\n",
      "recall    = 0.9100 ±0.0087\n",
      "precision = 0.9107 ±0.0088\n",
      "f1        = 0.9100 ±0.0087\n"
     ]
    },
    {
     "data": {
      "text/plain": [
       "11.28397798538208"
      ]
     },
     "execution_count": 101,
     "metadata": {},
     "output_type": "execute_result"
    }
   ],
   "source": [
    "MPC(X, y, (20, 20),'tanh')"
   ]
  },
  {
   "cell_type": "code",
   "execution_count": 28,
   "id": "d5548c70",
   "metadata": {},
   "outputs": [],
   "source": [
    "# def MPC_different_leaning_rate(X, y, layers, func, learning_rate):\n",
    "#     prec, rec, f1 = [], [], []\n",
    "#     # Time spent\n",
    "#     start = time.time()\n",
    "    \n",
    "#     for train_idx, test_idx in kfold.split(X):\n",
    "#         X_train, X_test = X[train_idx], X[test_idx]\n",
    "#         y_train, y_test = y[train_idx], y[test_idx]\n",
    "\n",
    "#         mlp_clf = MLPClassifier(hidden_layer_sizes=layers, learning_rate_init=learning_rate, max_iter=1000, activation=func, random_state=2, solver=\"lbfgs\") # number of hidden layers is passed to the classifier\n",
    "#         X_scaler = preprocessing.MinMaxScaler()\n",
    "\n",
    "#         X_train = X_scaler.fit_transform(X_train)    \n",
    "\n",
    "#         mlp_clf.fit(X_train, y_train)\n",
    "\n",
    "#         X_test = X_scaler.transform(X_test)\n",
    "#         y_pred = mlp_clf.predict(X_test)\n",
    "\n",
    "#         print(y_pred)\n",
    "#         print(y_test)\n",
    "\n",
    "#         rec += [metrics.recall_score(y_pred, y_test, average=\"weighted\")]\n",
    "#         prec += [metrics.precision_score(y_pred, y_test, average=\"weighted\")]\n",
    "#         f1 += [metrics.f1_score(y_pred, y_test, average=\"weighted\")]\n",
    "        \n",
    "        \n",
    "      \n",
    "        \n",
    "\n",
    "#         print()\n",
    "    \n",
    "#     time_spent = time.time() - start\n",
    "#     print(\"Time: \", time_spent)\n",
    "\n",
    "#     print(\"recall    = {:.4f} ±{:.4f}\".format(np.mean(rec), np.std(rec)))\n",
    "#     print(\"precision = {:.4f} ±{:.4f}\".format(np.mean(prec), np.std(prec)))\n",
    "#     print(\"f1        = {:.4f} ±{:.4f}\".format(np.mean(f1), np.std(f1)))\n",
    "    \n",
    "#     return time_spent\n"
   ]
  },
  {
   "cell_type": "code",
   "execution_count": 29,
   "id": "9590f835",
   "metadata": {},
   "outputs": [],
   "source": [
    "# MPC_different_leaning_rate(X, y, (100, 100),'relu', 0.5)"
   ]
  },
  {
   "cell_type": "code",
   "execution_count": null,
   "id": "ddafe891",
   "metadata": {},
   "outputs": [],
   "source": []
  }
 ],
 "metadata": {
  "kernelspec": {
   "display_name": "Python 3 (ipykernel)",
   "language": "python",
   "name": "python3"
  },
  "language_info": {
   "codemirror_mode": {
    "name": "ipython",
    "version": 3
   },
   "file_extension": ".py",
   "mimetype": "text/x-python",
   "name": "python",
   "nbconvert_exporter": "python",
   "pygments_lexer": "ipython3",
   "version": "3.11.4"
  }
 },
 "nbformat": 4,
 "nbformat_minor": 5
}
